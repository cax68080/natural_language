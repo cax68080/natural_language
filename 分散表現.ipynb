{
 "cells": [
  {
   "cell_type": "markdown",
   "id": "c351bf98",
   "metadata": {},
   "source": [
    "# 第2章　分散表現"
   ]
  },
  {
   "cell_type": "markdown",
   "id": "3985ce04",
   "metadata": {},
   "source": [
    "## 2.2 cos類似度"
   ]
  },
  {
   "cell_type": "markdown",
   "id": "571fdd73",
   "metadata": {},
   "source": [
    "### cosine_simirarityモジュールによるcos類似度"
   ]
  },
  {
   "cell_type": "code",
   "execution_count": 2,
   "id": "5643a88a",
   "metadata": {},
   "outputs": [],
   "source": [
    "# CountVectorizerモジュールの入力形式に変換する関数\n",
    "import janome\n",
    "from janome.tokenizer import Tokenizer\n",
    "\n",
    "t = Tokenizer()\n",
    "\n",
    "def make_corpus(documents):\n",
    "    result_corpus = []\n",
    "    \n",
    "    for adocument in documents:\n",
    "        words = [token for token in t.tokenize(adocument,wakati=True)]\n",
    "        text = \" \".join(words)\n",
    "        result_corpus.append(text)\n",
    "    return result_corpus"
   ]
  },
  {
   "cell_type": "code",
   "execution_count": 3,
   "id": "ba3d34b8",
   "metadata": {},
   "outputs": [
    {
     "name": "stdout",
     "output_type": "stream",
     "text": [
      "['私 は 秋田 犬 が 大好き です 。 私 の 好き な 犬 は 秋田 犬 です 。', '私 は 犬 が 苦手 です 。 犬 より 猫 の ほう が 好き です 。', '私 は 本 が 好き です 。 毎 日本 を 読み ます 。', '私 は 数学 が 苦手 です 。', '私 は 運動 が 得意 で 、 走る の が 速い です 。', '私 は 毎日 8 時間 寝 て い ます 。', '私 は 肉 と 魚 が 好き です 。 嫌い な 食べ物 は ピーマン です 。', '私 は 毎朝 電車 で 通勤 し て い ます 。 満員 電車 は 嫌い です 。', '今日 は いい 天気 です 。 日差し が まぶしい 。', '明日 は 雨 が 降る かも しれ ませ ん 。']\n"
     ]
    }
   ],
   "source": [
    "document1 = '私は秋田犬が大好きです。私の好きな犬は秋田犬です。'\n",
    "document2 = '私は犬が苦手です。犬より猫のほうが好きです。'\n",
    "document3 = '私は本が好きです。毎日本を読みます。'\n",
    "document4 = '私は数学が苦手です。'\n",
    "document5 = '私は運動が得意で、走るのが速いです。'\n",
    "document6 = '私は毎日8時間寝ています。'\n",
    "document7 = '私は肉と魚が好きです。嫌いな食べ物はピーマンです。'\n",
    "document8 = '私は毎朝電車で通勤しています。満員電車は嫌いです。'\n",
    "document9 = '今日はいい天気です。日差しがまぶしい。'\n",
    "document10 = '明日は雨が降るかもしれません。'\n",
    "\n",
    "documents = [document1,document2,document3,document4,document5,document6,document7,document8,document9,document10]\n",
    "dict = make_corpus(documents) \n",
    "print(dict)\n"
   ]
  },
  {
   "cell_type": "code",
   "execution_count": 5,
   "id": "ec80aa6d",
   "metadata": {},
   "outputs": [
    {
     "data": {
      "text/plain": [
       "(10, 55)"
      ]
     },
     "execution_count": 5,
     "metadata": {},
     "output_type": "execute_result"
    }
   ],
   "source": [
    "from sklearn.feature_extraction.text import TfidfVectorizer\n",
    "vectorizer = TfidfVectorizer(token_pattern='(?u)\\\\b\\\\w+\\\\b',sublinear_tf=True)\n",
    "X = vectorizer.fit_transform(dict)\n",
    "X.shape"
   ]
  },
  {
   "cell_type": "code",
   "execution_count": 6,
   "id": "a46e9841",
   "metadata": {},
   "outputs": [
    {
     "name": "stdout",
     "output_type": "stream",
     "text": [
      "[[ 0.6755768  -0.27843101 -0.26856757]\n",
      " [ 0.71449893 -0.3433819  -0.1981751 ]\n",
      " [ 0.46417642  0.19180123 -0.02346579]\n",
      " [ 0.60150519 -0.11702002  0.07424716]\n",
      " [ 0.50587724 -0.02412961  0.11104759]\n",
      " [ 0.26155699  0.7271639  -0.07386861]\n",
      " [ 0.53685042  0.01953388 -0.04135825]\n",
      " [ 0.37314351  0.67744546 -0.02297382]\n",
      " [ 0.30515288 -0.07094008  0.48275125]\n",
      " [ 0.16987888 -0.02828892  0.79982474]]\n",
      "(10, 3)\n",
      "[0.03800946 0.15283318 0.12135128]\n",
      "0.3121939206181686\n"
     ]
    }
   ],
   "source": [
    "#次元数を減らしてみる\n",
    "from sklearn.decomposition import TruncatedSVD\n",
    "svd = TruncatedSVD(n_components=3,n_iter=5,random_state=42)\n",
    "newX = svd.fit_transform(X)\n",
    "print(newX)\n",
    "print(newX.shape)\n",
    "print(svd.explained_variance_ratio_)\n",
    "print(svd.explained_variance_ratio_.sum())"
   ]
  },
  {
   "cell_type": "code",
   "execution_count": 10,
   "id": "1f8006c7",
   "metadata": {},
   "outputs": [
    {
     "name": "stdout",
     "output_type": "stream",
     "text": [
      "[ 0.6755768  -0.27843101 -0.26856757]\n",
      "[[ 0.6755768  -0.27843101 -0.26856757]]\n",
      "[[-0.1447005]]\n"
     ]
    }
   ],
   "source": [
    "# cos類似度を求める\n",
    "from sklearn.metrics.pairwise import cosine_similarity\n",
    "A = newX[0]\n",
    "B = newX[9]\n",
    "print(A)\n",
    "print(A.reshape(1,-1))\n",
    "print(cosine_similarity(A.reshape(1,-1),B.reshape(1,-1)))"
   ]
  },
  {
   "cell_type": "code",
   "execution_count": 12,
   "id": "c01801a6",
   "metadata": {},
   "outputs": [
    {
     "name": "stdout",
     "output_type": "stream",
     "text": [
      "[[ 1.          0.99277153  0.6808168   0.87194947  0.78945428 -0.00980307\n",
      "   0.87817903  0.11560315  0.21484288 -0.1447005 ]\n",
      " [ 0.99277153  1.          0.65826394  0.90257702  0.82075836 -0.07594427\n",
      "   0.87463065  0.06095802  0.31200454 -0.0410048 ]\n",
      " [ 0.6808168   0.65826394  1.          0.82169839  0.87300438  0.67282425\n",
      "   0.93728093  0.78059133  0.40334546  0.1328746 ]\n",
      " [ 0.87194947  0.90257702  0.82169839  1.          0.9853611   0.13930184\n",
      "   0.95484607  0.3003854   0.640971    0.32647966]\n",
      " [ 0.78945428  0.82075836  0.87300438  0.9853611   1.          0.26476365\n",
      "   0.95403579  0.42341943  0.70274471  0.41357575]\n",
      " [-0.00980307 -0.07594427  0.67282425  0.13930184  0.26476365  1.\n",
      "   0.37697738  0.98542669 -0.01663172 -0.0554525 ]\n",
      " [ 0.87817903  0.87463065  0.93728093  0.95484607  0.95403579  0.37697738\n",
      "   1.          0.51453083  0.4594673   0.13059253]\n",
      " [ 0.11560315  0.06095802  0.78059133  0.3003854   0.42341943  0.98542669\n",
      "   0.51453083  1.          0.12287832  0.04083389]\n",
      " [ 0.21484288  0.31200454  0.40334546  0.640971    0.70274471 -0.01663172\n",
      "   0.4594673   0.12287832  1.          0.93440379]\n",
      " [-0.1447005  -0.0410048   0.1328746   0.32647966  0.41357575 -0.0554525\n",
      "   0.13059253  0.04083389  0.93440379  1.        ]]\n"
     ]
    },
    {
     "data": {
      "text/plain": [
       "(10, 10)"
      ]
     },
     "execution_count": 12,
     "metadata": {},
     "output_type": "execute_result"
    }
   ],
   "source": [
    "# cosine_similarityの第2引数を省略\n",
    "# cos類似度を求める\n",
    "from sklearn.metrics.pairwise import cosine_similarity\n",
    "result = cosine_similarity(newX)\n",
    "print(result)\n",
    "result.shape"
   ]
  },
  {
   "cell_type": "markdown",
   "id": "ed9cccfd",
   "metadata": {},
   "source": [
    "### PyTorchによるcos類似度の実装"
   ]
  },
  {
   "cell_type": "code",
   "execution_count": 13,
   "id": "377dc458",
   "metadata": {
    "collapsed": true
   },
   "outputs": [
    {
     "name": "stdout",
     "output_type": "stream",
     "text": [
      "Collecting torch\n",
      "  Downloading torch-1.12.1-cp39-cp39-win_amd64.whl (161.8 MB)\n",
      "     -------------------------------------- 161.8/161.8 MB 5.1 MB/s eta 0:00:00\n",
      "Collecting torchvision\n",
      "  Downloading torchvision-0.13.1-cp39-cp39-win_amd64.whl (1.1 MB)\n",
      "     ---------------------------------------- 1.1/1.1 MB 7.5 MB/s eta 0:00:00\n",
      "Collecting torchaudio\n",
      "  Downloading torchaudio-0.12.1-cp39-cp39-win_amd64.whl (969 kB)\n",
      "     -------------------------------------- 969.6/969.6 kB 5.6 MB/s eta 0:00:00\n",
      "Requirement already satisfied: typing-extensions in c:\\programdata\\anaconda3\\lib\\site-packages (from torch) (4.3.0)\n",
      "Requirement already satisfied: numpy in c:\\programdata\\anaconda3\\lib\\site-packages (from torchvision) (1.21.5)\n",
      "Requirement already satisfied: requests in c:\\programdata\\anaconda3\\lib\\site-packages (from torchvision) (2.28.1)\n",
      "Requirement already satisfied: pillow!=8.3.*,>=5.3.0 in c:\\programdata\\anaconda3\\lib\\site-packages (from torchvision) (9.2.0)\n",
      "Requirement already satisfied: idna<4,>=2.5 in c:\\programdata\\anaconda3\\lib\\site-packages (from requests->torchvision) (3.3)\n",
      "Requirement already satisfied: charset-normalizer<3,>=2 in c:\\programdata\\anaconda3\\lib\\site-packages (from requests->torchvision) (2.0.4)\n",
      "Requirement already satisfied: urllib3<1.27,>=1.21.1 in c:\\programdata\\anaconda3\\lib\\site-packages (from requests->torchvision) (1.26.11)\n",
      "Requirement already satisfied: certifi>=2017.4.17 in c:\\programdata\\anaconda3\\lib\\site-packages (from requests->torchvision) (2022.9.24)\n",
      "Installing collected packages: torch, torchvision, torchaudio\n",
      "Successfully installed torch-1.12.1 torchaudio-0.12.1 torchvision-0.13.1\n"
     ]
    },
    {
     "name": "stderr",
     "output_type": "stream",
     "text": [
      "WARNING: Ignoring invalid distribution -p (c:\\programdata\\anaconda3\\lib\\site-packages)\n",
      "WARNING: Ignoring invalid distribution -ip (c:\\programdata\\anaconda3\\lib\\site-packages)\n",
      "WARNING: Ignoring invalid distribution - (c:\\programdata\\anaconda3\\lib\\site-packages)\n",
      "WARNING: Ignoring invalid distribution -p (c:\\programdata\\anaconda3\\lib\\site-packages)\n",
      "WARNING: Ignoring invalid distribution -ip (c:\\programdata\\anaconda3\\lib\\site-packages)\n",
      "WARNING: Ignoring invalid distribution - (c:\\programdata\\anaconda3\\lib\\site-packages)\n",
      "WARNING: Ignoring invalid distribution -p (c:\\programdata\\anaconda3\\lib\\site-packages)\n",
      "WARNING: Ignoring invalid distribution -ip (c:\\programdata\\anaconda3\\lib\\site-packages)\n",
      "WARNING: Ignoring invalid distribution - (c:\\programdata\\anaconda3\\lib\\site-packages)\n",
      "WARNING: Ignoring invalid distribution -p (c:\\programdata\\anaconda3\\lib\\site-packages)\n",
      "WARNING: Ignoring invalid distribution -ip (c:\\programdata\\anaconda3\\lib\\site-packages)\n",
      "WARNING: Ignoring invalid distribution - (c:\\programdata\\anaconda3\\lib\\site-packages)\n",
      "WARNING: Ignoring invalid distribution -p (c:\\programdata\\anaconda3\\lib\\site-packages)\n",
      "WARNING: Ignoring invalid distribution -ip (c:\\programdata\\anaconda3\\lib\\site-packages)\n",
      "WARNING: Ignoring invalid distribution - (c:\\programdata\\anaconda3\\lib\\site-packages)\n",
      "WARNING: Ignoring invalid distribution -p (c:\\programdata\\anaconda3\\lib\\site-packages)\n",
      "WARNING: Ignoring invalid distribution -ip (c:\\programdata\\anaconda3\\lib\\site-packages)\n",
      "WARNING: Ignoring invalid distribution - (c:\\programdata\\anaconda3\\lib\\site-packages)\n",
      "WARNING: Ignoring invalid distribution -p (c:\\programdata\\anaconda3\\lib\\site-packages)\n",
      "WARNING: Ignoring invalid distribution -ip (c:\\programdata\\anaconda3\\lib\\site-packages)\n",
      "WARNING: Ignoring invalid distribution - (c:\\programdata\\anaconda3\\lib\\site-packages)\n",
      "WARNING: Ignoring invalid distribution -p (c:\\programdata\\anaconda3\\lib\\site-packages)\n",
      "WARNING: Ignoring invalid distribution -ip (c:\\programdata\\anaconda3\\lib\\site-packages)\n",
      "WARNING: Ignoring invalid distribution - (c:\\programdata\\anaconda3\\lib\\site-packages)\n",
      "WARNING: Ignoring invalid distribution -p (c:\\programdata\\anaconda3\\lib\\site-packages)\n",
      "WARNING: Ignoring invalid distribution -ip (c:\\programdata\\anaconda3\\lib\\site-packages)\n",
      "WARNING: Ignoring invalid distribution - (c:\\programdata\\anaconda3\\lib\\site-packages)\n"
     ]
    }
   ],
   "source": [
    "!pip3 install torch torchvision torchaudio"
   ]
  },
  {
   "cell_type": "code",
   "execution_count": 14,
   "id": "d4a26715",
   "metadata": {},
   "outputs": [
    {
     "name": "stdout",
     "output_type": "stream",
     "text": [
      "1.12.1+cpu\n"
     ]
    }
   ],
   "source": [
    "import torch\n",
    "print(torch.__version__)"
   ]
  },
  {
   "cell_type": "code",
   "execution_count": 18,
   "id": "4fa711d7",
   "metadata": {},
   "outputs": [
    {
     "data": {
      "text/plain": [
       "tensor(-0.1447)"
      ]
     },
     "execution_count": 18,
     "metadata": {},
     "output_type": "execute_result"
    }
   ],
   "source": [
    "import torch\n",
    "import torch.nn.functional as F\n",
    "A = torch.FloatTensor(newX[0])\n",
    "B = torch.FloatTensor(newX[9])\n",
    "F.cosine_similarity(A,B,dim=0)"
   ]
  },
  {
   "cell_type": "markdown",
   "id": "677b307c",
   "metadata": {},
   "source": [
    "## 2.3 word2vec"
   ]
  },
  {
   "cell_type": "markdown",
   "id": "fc6ffeea",
   "metadata": {},
   "source": [
    "### gensimモジュールによるword2vecの作成"
   ]
  },
  {
   "cell_type": "code",
   "execution_count": 22,
   "id": "56827afd",
   "metadata": {},
   "outputs": [],
   "source": [
    "# 分かち書きファイルの作成\n",
    "import janome\n",
    "from janome.tokenizer import Tokenizer\n",
    "\n",
    "t = Tokenizer()\n",
    "\n",
    "datafile = \"melos.txt\"\n",
    "wakatifile = \"wakati.txt\"\n",
    "\n",
    "with open(wakatifile,'w',encoding='UTF-8') as f2:\n",
    "    with open(datafile,'r',encoding='UTF-8') as f1:\n",
    "        for line in f1:\n",
    "            for token in t.tokenize(line,wakati=True):\n",
    "                f2.write(token + \" \")\n",
    "            f2.write('\\n')"
   ]
  },
  {
   "cell_type": "code",
   "execution_count": 35,
   "id": "2a3d8669",
   "metadata": {},
   "outputs": [
    {
     "ename": "TypeError",
     "evalue": "'Word2Vec' object is not subscriptable",
     "output_type": "error",
     "traceback": [
      "\u001b[1;31m---------------------------------------------------------------------------\u001b[0m",
      "\u001b[1;31mTypeError\u001b[0m                                 Traceback (most recent call last)",
      "Input \u001b[1;32mIn [35]\u001b[0m, in \u001b[0;36m<cell line: 5>\u001b[1;34m()\u001b[0m\n\u001b[0;32m      3\u001b[0m sentences \u001b[38;5;241m=\u001b[39m word2vec\u001b[38;5;241m.\u001b[39mLineSentence(wakatifile)\n\u001b[0;32m      4\u001b[0m model \u001b[38;5;241m=\u001b[39m Word2Vec(sentences)\n\u001b[1;32m----> 5\u001b[0m \u001b[38;5;28mprint\u001b[39m(\u001b[43mmodel\u001b[49m\u001b[43m[\u001b[49m\u001b[38;5;124;43m'\u001b[39;49m\u001b[38;5;124;43m犬\u001b[39;49m\u001b[38;5;124;43m'\u001b[39;49m\u001b[43m]\u001b[49m)\n",
      "\u001b[1;31mTypeError\u001b[0m: 'Word2Vec' object is not subscriptable"
     ]
    }
   ],
   "source": [
    "from gensim.models import word2vec\n",
    "from gensim.models import Word2Vec\n",
    "sentences = word2vec.LineSentence(wakatifile)\n",
    "model = Word2Vec(sentences)\n",
    "print(model['犬'])"
   ]
  },
  {
   "cell_type": "code",
   "execution_count": null,
   "id": "0c11b621",
   "metadata": {},
   "outputs": [],
   "source": []
  }
 ],
 "metadata": {
  "kernelspec": {
   "display_name": "Python 3 (ipykernel)",
   "language": "python",
   "name": "python3"
  },
  "language_info": {
   "codemirror_mode": {
    "name": "ipython",
    "version": 3
   },
   "file_extension": ".py",
   "mimetype": "text/x-python",
   "name": "python",
   "nbconvert_exporter": "python",
   "pygments_lexer": "ipython3",
   "version": "3.9.7"
  }
 },
 "nbformat": 4,
 "nbformat_minor": 5
}
