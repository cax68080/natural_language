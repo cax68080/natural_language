{
 "cells": [
  {
   "cell_type": "markdown",
   "id": "c351bf98",
   "metadata": {},
   "source": [
    "# 第2章　分散表現"
   ]
  },
  {
   "cell_type": "markdown",
   "id": "3985ce04",
   "metadata": {},
   "source": [
    "## 2.2 cos類似度"
   ]
  },
  {
   "cell_type": "markdown",
   "id": "571fdd73",
   "metadata": {},
   "source": [
    "### cosine_simirarityモジュールによるcos類似度"
   ]
  },
  {
   "cell_type": "code",
   "execution_count": 2,
   "id": "5643a88a",
   "metadata": {},
   "outputs": [],
   "source": [
    "# CountVectorizerモジュールの入力形式に変換する関数\n",
    "import janome\n",
    "from janome.tokenizer import Tokenizer\n",
    "\n",
    "t = Tokenizer()\n",
    "\n",
    "def make_corpus(documents):\n",
    "    result_corpus = []\n",
    "    \n",
    "    for adocument in documents:\n",
    "        words = [token for token in t.tokenize(adocument,wakati=True)]\n",
    "        text = \" \".join(words)\n",
    "        result_corpus.append(text)\n",
    "    return result_corpus"
   ]
  },
  {
   "cell_type": "code",
   "execution_count": 3,
   "id": "ba3d34b8",
   "metadata": {},
   "outputs": [
    {
     "name": "stdout",
     "output_type": "stream",
     "text": [
      "['私 は 秋田 犬 が 大好き です 。 私 の 好き な 犬 は 秋田 犬 です 。', '私 は 犬 が 苦手 です 。 犬 より 猫 の ほう が 好き です 。', '私 は 本 が 好き です 。 毎 日本 を 読み ます 。', '私 は 数学 が 苦手 です 。', '私 は 運動 が 得意 で 、 走る の が 速い です 。', '私 は 毎日 8 時間 寝 て い ます 。', '私 は 肉 と 魚 が 好き です 。 嫌い な 食べ物 は ピーマン です 。', '私 は 毎朝 電車 で 通勤 し て い ます 。 満員 電車 は 嫌い です 。', '今日 は いい 天気 です 。 日差し が まぶしい 。', '明日 は 雨 が 降る かも しれ ませ ん 。']\n"
     ]
    }
   ],
   "source": [
    "document1 = '私は秋田犬が大好きです。私の好きな犬は秋田犬です。'\n",
    "document2 = '私は犬が苦手です。犬より猫のほうが好きです。'\n",
    "document3 = '私は本が好きです。毎日本を読みます。'\n",
    "document4 = '私は数学が苦手です。'\n",
    "document5 = '私は運動が得意で、走るのが速いです。'\n",
    "document6 = '私は毎日8時間寝ています。'\n",
    "document7 = '私は肉と魚が好きです。嫌いな食べ物はピーマンです。'\n",
    "document8 = '私は毎朝電車で通勤しています。満員電車は嫌いです。'\n",
    "document9 = '今日はいい天気です。日差しがまぶしい。'\n",
    "document10 = '明日は雨が降るかもしれません。'\n",
    "\n",
    "documents = [document1,document2,document3,document4,document5,document6,document7,document8,document9,document10]\n",
    "dict = make_corpus(documents) \n",
    "print(dict)\n"
   ]
  },
  {
   "cell_type": "code",
   "execution_count": 5,
   "id": "ec80aa6d",
   "metadata": {},
   "outputs": [
    {
     "data": {
      "text/plain": [
       "(10, 55)"
      ]
     },
     "execution_count": 5,
     "metadata": {},
     "output_type": "execute_result"
    }
   ],
   "source": [
    "from sklearn.feature_extraction.text import TfidfVectorizer\n",
    "vectorizer = TfidfVectorizer(token_pattern='(?u)\\\\b\\\\w+\\\\b',sublinear_tf=True)\n",
    "X = vectorizer.fit_transform(dict)\n",
    "X.shape"
   ]
  },
  {
   "cell_type": "code",
   "execution_count": 6,
   "id": "a46e9841",
   "metadata": {},
   "outputs": [
    {
     "name": "stdout",
     "output_type": "stream",
     "text": [
      "[[ 0.6755768  -0.27843101 -0.26856757]\n",
      " [ 0.71449893 -0.3433819  -0.1981751 ]\n",
      " [ 0.46417642  0.19180123 -0.02346579]\n",
      " [ 0.60150519 -0.11702002  0.07424716]\n",
      " [ 0.50587724 -0.02412961  0.11104759]\n",
      " [ 0.26155699  0.7271639  -0.07386861]\n",
      " [ 0.53685042  0.01953388 -0.04135825]\n",
      " [ 0.37314351  0.67744546 -0.02297382]\n",
      " [ 0.30515288 -0.07094008  0.48275125]\n",
      " [ 0.16987888 -0.02828892  0.79982474]]\n",
      "(10, 3)\n",
      "[0.03800946 0.15283318 0.12135128]\n",
      "0.3121939206181686\n"
     ]
    }
   ],
   "source": [
    "#次元数を減らしてみる\n",
    "from sklearn.decomposition import TruncatedSVD\n",
    "svd = TruncatedSVD(n_components=3,n_iter=5,random_state=42)\n",
    "newX = svd.fit_transform(X)\n",
    "print(newX)\n",
    "print(newX.shape)\n",
    "print(svd.explained_variance_ratio_)\n",
    "print(svd.explained_variance_ratio_.sum())"
   ]
  },
  {
   "cell_type": "code",
   "execution_count": 10,
   "id": "1f8006c7",
   "metadata": {},
   "outputs": [
    {
     "name": "stdout",
     "output_type": "stream",
     "text": [
      "[ 0.6755768  -0.27843101 -0.26856757]\n",
      "[[ 0.6755768  -0.27843101 -0.26856757]]\n",
      "[[-0.1447005]]\n"
     ]
    }
   ],
   "source": [
    "# cos類似度を求める\n",
    "from sklearn.metrics.pairwise import cosine_similarity\n",
    "A = newX[0]\n",
    "B = newX[9]\n",
    "print(A)\n",
    "print(A.reshape(1,-1))\n",
    "print(cosine_similarity(A.reshape(1,-1),B.reshape(1,-1)))"
   ]
  },
  {
   "cell_type": "code",
   "execution_count": 12,
   "id": "c01801a6",
   "metadata": {},
   "outputs": [
    {
     "name": "stdout",
     "output_type": "stream",
     "text": [
      "[[ 1.          0.99277153  0.6808168   0.87194947  0.78945428 -0.00980307\n",
      "   0.87817903  0.11560315  0.21484288 -0.1447005 ]\n",
      " [ 0.99277153  1.          0.65826394  0.90257702  0.82075836 -0.07594427\n",
      "   0.87463065  0.06095802  0.31200454 -0.0410048 ]\n",
      " [ 0.6808168   0.65826394  1.          0.82169839  0.87300438  0.67282425\n",
      "   0.93728093  0.78059133  0.40334546  0.1328746 ]\n",
      " [ 0.87194947  0.90257702  0.82169839  1.          0.9853611   0.13930184\n",
      "   0.95484607  0.3003854   0.640971    0.32647966]\n",
      " [ 0.78945428  0.82075836  0.87300438  0.9853611   1.          0.26476365\n",
      "   0.95403579  0.42341943  0.70274471  0.41357575]\n",
      " [-0.00980307 -0.07594427  0.67282425  0.13930184  0.26476365  1.\n",
      "   0.37697738  0.98542669 -0.01663172 -0.0554525 ]\n",
      " [ 0.87817903  0.87463065  0.93728093  0.95484607  0.95403579  0.37697738\n",
      "   1.          0.51453083  0.4594673   0.13059253]\n",
      " [ 0.11560315  0.06095802  0.78059133  0.3003854   0.42341943  0.98542669\n",
      "   0.51453083  1.          0.12287832  0.04083389]\n",
      " [ 0.21484288  0.31200454  0.40334546  0.640971    0.70274471 -0.01663172\n",
      "   0.4594673   0.12287832  1.          0.93440379]\n",
      " [-0.1447005  -0.0410048   0.1328746   0.32647966  0.41357575 -0.0554525\n",
      "   0.13059253  0.04083389  0.93440379  1.        ]]\n"
     ]
    },
    {
     "data": {
      "text/plain": [
       "(10, 10)"
      ]
     },
     "execution_count": 12,
     "metadata": {},
     "output_type": "execute_result"
    }
   ],
   "source": [
    "# cosine_similarityの第2引数を省略\n",
    "# cos類似度を求める\n",
    "from sklearn.metrics.pairwise import cosine_similarity\n",
    "result = cosine_similarity(newX)\n",
    "print(result)\n",
    "result.shape"
   ]
  },
  {
   "cell_type": "markdown",
   "id": "ed9cccfd",
   "metadata": {},
   "source": [
    "### PyTorchによるcos類似度の実装"
   ]
  },
  {
   "cell_type": "code",
   "execution_count": 1,
   "id": "377dc458",
   "metadata": {},
   "outputs": [
    {
     "name": "stdout",
     "output_type": "stream",
     "text": [
      "Requirement already satisfied: torch in c:\\programdata\\anaconda3\\lib\\site-packages (1.12.1)\n",
      "Requirement already satisfied: torchvision in c:\\programdata\\anaconda3\\lib\\site-packages (0.13.1)\n",
      "Requirement already satisfied: torchaudio in c:\\programdata\\anaconda3\\lib\\site-packages (0.12.1)\n",
      "Requirement already satisfied: typing-extensions in c:\\programdata\\anaconda3\\lib\\site-packages (from torch) (4.3.0)\n",
      "Requirement already satisfied: pillow!=8.3.*,>=5.3.0 in c:\\programdata\\anaconda3\\lib\\site-packages (from torchvision) (9.2.0)\n",
      "Requirement already satisfied: numpy in c:\\programdata\\anaconda3\\lib\\site-packages (from torchvision) (1.21.5)\n",
      "Requirement already satisfied: requests in c:\\programdata\\anaconda3\\lib\\site-packages (from torchvision) (2.28.1)\n",
      "Requirement already satisfied: urllib3<1.27,>=1.21.1 in c:\\programdata\\anaconda3\\lib\\site-packages (from requests->torchvision) (1.26.11)\n",
      "Requirement already satisfied: charset-normalizer<3,>=2 in c:\\programdata\\anaconda3\\lib\\site-packages (from requests->torchvision) (2.0.4)\n",
      "Requirement already satisfied: certifi>=2017.4.17 in c:\\programdata\\anaconda3\\lib\\site-packages (from requests->torchvision) (2022.9.24)\n",
      "Requirement already satisfied: idna<4,>=2.5 in c:\\programdata\\anaconda3\\lib\\site-packages (from requests->torchvision) (3.3)\n"
     ]
    },
    {
     "name": "stderr",
     "output_type": "stream",
     "text": [
      "WARNING: Ignoring invalid distribution -p (c:\\programdata\\anaconda3\\lib\\site-packages)\n",
      "WARNING: Ignoring invalid distribution -ip (c:\\programdata\\anaconda3\\lib\\site-packages)\n",
      "WARNING: Ignoring invalid distribution - (c:\\programdata\\anaconda3\\lib\\site-packages)\n",
      "WARNING: Ignoring invalid distribution -p (c:\\programdata\\anaconda3\\lib\\site-packages)\n",
      "WARNING: Ignoring invalid distribution -ip (c:\\programdata\\anaconda3\\lib\\site-packages)\n",
      "WARNING: Ignoring invalid distribution - (c:\\programdata\\anaconda3\\lib\\site-packages)\n",
      "WARNING: Ignoring invalid distribution -p (c:\\programdata\\anaconda3\\lib\\site-packages)\n",
      "WARNING: Ignoring invalid distribution -ip (c:\\programdata\\anaconda3\\lib\\site-packages)\n",
      "WARNING: Ignoring invalid distribution - (c:\\programdata\\anaconda3\\lib\\site-packages)\n",
      "WARNING: Ignoring invalid distribution -p (c:\\programdata\\anaconda3\\lib\\site-packages)\n",
      "WARNING: Ignoring invalid distribution -ip (c:\\programdata\\anaconda3\\lib\\site-packages)\n",
      "WARNING: Ignoring invalid distribution - (c:\\programdata\\anaconda3\\lib\\site-packages)\n",
      "WARNING: Ignoring invalid distribution -p (c:\\programdata\\anaconda3\\lib\\site-packages)\n",
      "WARNING: Ignoring invalid distribution -ip (c:\\programdata\\anaconda3\\lib\\site-packages)\n",
      "WARNING: Ignoring invalid distribution - (c:\\programdata\\anaconda3\\lib\\site-packages)\n",
      "WARNING: Ignoring invalid distribution -p (c:\\programdata\\anaconda3\\lib\\site-packages)\n",
      "WARNING: Ignoring invalid distribution -ip (c:\\programdata\\anaconda3\\lib\\site-packages)\n",
      "WARNING: Ignoring invalid distribution - (c:\\programdata\\anaconda3\\lib\\site-packages)\n"
     ]
    }
   ],
   "source": [
    "!pip3 install torch torchvision torchaudio"
   ]
  },
  {
   "cell_type": "code",
   "execution_count": 14,
   "id": "d4a26715",
   "metadata": {},
   "outputs": [
    {
     "name": "stdout",
     "output_type": "stream",
     "text": [
      "1.12.1+cpu\n"
     ]
    }
   ],
   "source": [
    "import torch\n",
    "print(torch.__version__)"
   ]
  },
  {
   "cell_type": "code",
   "execution_count": 2,
   "id": "4fa711d7",
   "metadata": {},
   "outputs": [
    {
     "ename": "NameError",
     "evalue": "name 'newX' is not defined",
     "output_type": "error",
     "traceback": [
      "\u001b[1;31m---------------------------------------------------------------------------\u001b[0m",
      "\u001b[1;31mNameError\u001b[0m                                 Traceback (most recent call last)",
      "Input \u001b[1;32mIn [2]\u001b[0m, in \u001b[0;36m<cell line: 3>\u001b[1;34m()\u001b[0m\n\u001b[0;32m      1\u001b[0m \u001b[38;5;28;01mimport\u001b[39;00m \u001b[38;5;21;01mtorch\u001b[39;00m\n\u001b[0;32m      2\u001b[0m \u001b[38;5;28;01mimport\u001b[39;00m \u001b[38;5;21;01mtorch\u001b[39;00m\u001b[38;5;21;01m.\u001b[39;00m\u001b[38;5;21;01mnn\u001b[39;00m\u001b[38;5;21;01m.\u001b[39;00m\u001b[38;5;21;01mfunctional\u001b[39;00m \u001b[38;5;28;01mas\u001b[39;00m \u001b[38;5;21;01mF\u001b[39;00m\n\u001b[1;32m----> 3\u001b[0m A \u001b[38;5;241m=\u001b[39m torch\u001b[38;5;241m.\u001b[39mFloatTensor(\u001b[43mnewX\u001b[49m[\u001b[38;5;241m0\u001b[39m])\n\u001b[0;32m      4\u001b[0m B \u001b[38;5;241m=\u001b[39m torch\u001b[38;5;241m.\u001b[39mFloatTensor(newX[\u001b[38;5;241m9\u001b[39m])\n\u001b[0;32m      5\u001b[0m F\u001b[38;5;241m.\u001b[39mcosine_similarity(A,B,dim\u001b[38;5;241m=\u001b[39m\u001b[38;5;241m0\u001b[39m)\n",
      "\u001b[1;31mNameError\u001b[0m: name 'newX' is not defined"
     ]
    }
   ],
   "source": [
    "import torch\n",
    "import torch.nn.functional as F\n",
    "A = torch.FloatTensor(newX[0])\n",
    "B = torch.FloatTensor(newX[9])\n",
    "F.cosine_similarity(A,B,dim=0)"
   ]
  },
  {
   "cell_type": "markdown",
   "id": "677b307c",
   "metadata": {},
   "source": [
    "## 2.3 word2vec"
   ]
  },
  {
   "cell_type": "markdown",
   "id": "fc6ffeea",
   "metadata": {},
   "source": [
    "### gensimモジュールによるword2vecの作成"
   ]
  },
  {
   "cell_type": "code",
   "execution_count": 3,
   "id": "56827afd",
   "metadata": {},
   "outputs": [],
   "source": [
    "# 分かち書きファイルの作成\n",
    "import janome\n",
    "from janome.tokenizer import Tokenizer\n",
    "\n",
    "t = Tokenizer()\n",
    "\n",
    "datafile = \"melos.txt\"\n",
    "wakatifile = \"wakati.txt\"\n",
    "\n",
    "with open(wakatifile,'w',encoding='UTF-8') as f2:\n",
    "    with open(datafile,'r',encoding='UTF-8') as f1:\n",
    "        for line in f1:\n",
    "            for token in t.tokenize(line,wakati=True):\n",
    "                f2.write(token + \" \")\n",
    "            f2.write('\\n')"
   ]
  },
  {
   "cell_type": "code",
   "execution_count": 9,
   "id": "2a3d8669",
   "metadata": {},
   "outputs": [
    {
     "name": "stdout",
     "output_type": "stream",
     "text": [
      "<class 'gensim.models.word2vec.Word2Vec'>\n"
     ]
    }
   ],
   "source": [
    "from gensim.models import word2vec\n",
    "from gensim.models import Word2Vec\n",
    "sentences = word2vec.LineSentence(wakatifile)\n",
    "model = Word2Vec(sentences)\n",
    "print(type(model))"
   ]
  },
  {
   "cell_type": "markdown",
   "id": "38d200a4",
   "metadata": {},
   "source": [
    "### 事前学習済のword2vec"
   ]
  },
  {
   "cell_type": "code",
   "execution_count": 1,
   "id": "53eca374",
   "metadata": {},
   "outputs": [],
   "source": [
    "from gensim.models import KeyedVectors\n",
    "\n",
    "model = KeyedVectors.load('chive-1.1-mc5-aunit_gensim\\chive-1.1-mc5-aunit.kv')"
   ]
  },
  {
   "cell_type": "code",
   "execution_count": 2,
   "id": "cb1db812",
   "metadata": {},
   "outputs": [
    {
     "data": {
      "text/plain": [
       "0.50058043"
      ]
     },
     "execution_count": 2,
     "metadata": {},
     "output_type": "execute_result"
    }
   ],
   "source": [
    "model.similarity('葡萄','メロン')"
   ]
  },
  {
   "cell_type": "code",
   "execution_count": 3,
   "id": "2fb86c64",
   "metadata": {},
   "outputs": [
    {
     "data": {
      "text/plain": [
       "322094"
      ]
     },
     "execution_count": 3,
     "metadata": {},
     "output_type": "execute_result"
    }
   ],
   "source": [
    "len(model.key_to_index)"
   ]
  },
  {
   "cell_type": "code",
   "execution_count": 4,
   "id": "748f52a0",
   "metadata": {},
   "outputs": [
    {
     "name": "stdout",
     "output_type": "stream",
     "text": [
      "[('巨峰', 0.7231999635696411), ('果実', 0.6389086842536926), ('桜ん坊', 0.6240198016166687), ('シャルドネ', 0.618291437625885), ('ワイン', 0.6176699995994568)]\n"
     ]
    }
   ],
   "source": [
    "print(model.most_similar('葡萄',topn=5))"
   ]
  },
  {
   "cell_type": "code",
   "execution_count": 13,
   "id": "2ab04866",
   "metadata": {},
   "outputs": [
    {
     "data": {
      "text/plain": [
       "[('秋', 0.5729417204856873),\n",
       " ('冬', 0.5290267467498779),\n",
       " ('春', 0.527359127998352)]"
      ]
     },
     "execution_count": 13,
     "metadata": {},
     "output_type": "execute_result"
    }
   ],
   "source": [
    "model.most_similar(positive=['山','夏'],negative=['海'],topn=3)"
   ]
  },
  {
   "cell_type": "markdown",
   "id": "2e534a73",
   "metadata": {},
   "source": [
    "### 2.4 doc2vec"
   ]
  },
  {
   "cell_type": "code",
   "execution_count": 16,
   "id": "3811d150",
   "metadata": {},
   "outputs": [],
   "source": [
    "from gensim.models.doc2vec import TaggedDocument\n",
    "with open('wakati_doc.txt', encoding='utf-8') as f:\n",
    "    docs = [TaggedDocument(words=data.split(),tags=[i]) for i,data in enumerate(f)]"
   ]
  },
  {
   "cell_type": "code",
   "execution_count": 17,
   "id": "89ea31ad",
   "metadata": {},
   "outputs": [],
   "source": [
    "from gensim.models.doc2vec import Doc2Vec\n",
    "model = Doc2Vec(docs)"
   ]
  },
  {
   "cell_type": "code",
   "execution_count": 18,
   "id": "9e2b6613",
   "metadata": {},
   "outputs": [],
   "source": [
    "model.save('mymodel.model')\n",
    "medel = Doc2Vec.load('mymodel.model')"
   ]
  },
  {
   "cell_type": "code",
   "execution_count": 20,
   "id": "f9d2cb2d",
   "metadata": {},
   "outputs": [
    {
     "data": {
      "text/plain": [
       "array([-1.08137354e-02, -3.60686448e-03, -1.68751404e-02,  1.00992694e-02,\n",
       "        2.70028273e-03, -2.33986657e-02, -1.93522498e-03,  1.79511961e-02,\n",
       "       -1.64268762e-02, -6.23647822e-03, -6.03719335e-03, -1.80389471e-02,\n",
       "       -2.55854242e-03,  3.33547505e-04, -6.27460191e-03, -1.80697627e-02,\n",
       "        1.20822592e-02, -4.17566299e-03, -1.06561501e-02, -3.03472783e-02,\n",
       "        1.20246354e-02,  1.37604645e-03,  5.35555743e-03, -6.29999861e-03,\n",
       "        6.32416923e-03, -1.41887018e-03, -2.22760793e-02, -1.37436436e-02,\n",
       "       -9.75212734e-03, -1.32230837e-02,  1.26991915e-02,  1.62335671e-02,\n",
       "       -3.38499347e-04, -1.54851247e-02, -1.25121120e-02,  2.70942431e-02,\n",
       "       -6.13774732e-03, -2.54533496e-02, -1.35383690e-02, -7.05700414e-03,\n",
       "        3.49374046e-03, -2.63165459e-02, -8.77705534e-05, -1.61053482e-02,\n",
       "        7.55836256e-03, -2.26655193e-02, -9.27963760e-03,  2.73518241e-03,\n",
       "        1.23287337e-02, -4.61329194e-03,  9.55367181e-03, -2.19134502e-02,\n",
       "       -4.44071181e-03, -9.71031433e-04, -1.02523277e-02,  1.43035585e-02,\n",
       "        6.46273652e-03,  9.89190012e-05, -1.75483376e-02,  2.03224830e-02,\n",
       "        6.88274158e-03, -7.63067976e-04,  2.01963019e-02, -4.34176950e-03,\n",
       "       -1.66714396e-02,  6.45801984e-03,  1.08734695e-02,  1.10422000e-02,\n",
       "       -2.01732013e-02,  3.20913806e-03, -6.32968498e-03,  1.35319056e-02,\n",
       "        9.51192225e-04, -8.76247976e-03,  1.39876856e-02,  8.93243682e-03,\n",
       "       -3.16819362e-03, -8.57921969e-03,  2.00438872e-03,  1.67357957e-03,\n",
       "       -1.34183851e-03, -2.91720056e-03, -2.60828603e-02,  1.95560716e-02,\n",
       "       -2.26029870e-03,  2.04931037e-03,  1.03771882e-02,  1.14766005e-02,\n",
       "        2.35849861e-02,  1.07854176e-02,  1.34463590e-02,  9.77014750e-03,\n",
       "       -9.56251565e-03, -6.30535791e-03,  2.20062397e-02,  1.35569181e-02,\n",
       "        5.14223706e-03, -1.48770912e-02,  1.00780614e-02, -7.07133999e-03],\n",
       "      dtype=float32)"
      ]
     },
     "execution_count": 20,
     "metadata": {},
     "output_type": "execute_result"
    }
   ],
   "source": [
    "model.dv[0]"
   ]
  },
  {
   "cell_type": "code",
   "execution_count": 23,
   "id": "39cf13c1",
   "metadata": {},
   "outputs": [
    {
     "data": {
      "text/plain": [
       "[(731, 0.9468039274215698),\n",
       " (576, 0.9417536854743958),\n",
       " (196, 0.9413872957229614),\n",
       " (573, 0.9384422302246094)]"
      ]
     },
     "execution_count": 23,
     "metadata": {},
     "output_type": "execute_result"
    }
   ],
   "source": [
    "model.dv.most_similar(1,topn=4)"
   ]
  },
  {
   "cell_type": "code",
   "execution_count": 24,
   "id": "5b4cafff",
   "metadata": {},
   "outputs": [
    {
     "data": {
      "text/plain": [
       "array([-0.00859902,  0.01011155, -0.00808303, -0.0039235 , -0.00041212,\n",
       "       -0.01831308,  0.0063673 ,  0.02537156, -0.00326623, -0.00473055,\n",
       "       -0.00889074, -0.02238915, -0.00067427,  0.00557083, -0.00108072,\n",
       "       -0.00913868,  0.01139112, -0.00185002,  0.00279234, -0.02671054,\n",
       "        0.01507623, -0.00178387,  0.01703887, -0.00687599,  0.00273824,\n",
       "        0.0147821 , -0.02003526, -0.00321776, -0.01605098, -0.00430303,\n",
       "        0.00124331,  0.00877965,  0.00949923, -0.00797731, -0.01230116,\n",
       "        0.02930696, -0.01092273, -0.01771256, -0.01616312, -0.00896365,\n",
       "        0.00668247, -0.0205541 , -0.00510602, -0.01101989,  0.00432243,\n",
       "       -0.02175647, -0.00861292,  0.004426  ,  0.00603218,  0.00059241,\n",
       "        0.0085566 , -0.02613855, -0.00027886,  0.01040063, -0.0080724 ,\n",
       "        0.00665825,  0.01113282, -0.01233829, -0.01430307,  0.0183921 ,\n",
       "        0.00768219, -0.02199128,  0.02865104, -0.00252148, -0.02320654,\n",
       "        0.01620888,  0.00626117,  0.01115923, -0.02461884,  0.00966016,\n",
       "        0.00413173,  0.01453061,  0.01137534,  0.00338052,  0.02364395,\n",
       "        0.0120802 , -0.00158566, -0.00141104, -0.00238601, -0.00131723,\n",
       "       -0.00585807, -0.00893707, -0.01215205,  0.01754142,  0.00075872,\n",
       "       -0.00285226,  0.01599788,  0.01897599,  0.01222019,  0.00413566,\n",
       "        0.0236641 ,  0.00380974, -0.00076036, -0.00311484,  0.03180251,\n",
       "        0.00785607,  0.00584136, -0.01472798, -0.00135713, -0.00425216],\n",
       "      dtype=float32)"
      ]
     },
     "execution_count": 24,
     "metadata": {},
     "output_type": "execute_result"
    }
   ],
   "source": [
    "newdoc = ['私','は','秋田','犬','が','大好き','。']\n",
    "model.infer_vector(newdoc)"
   ]
  },
  {
   "cell_type": "code",
   "execution_count": null,
   "id": "9667008b",
   "metadata": {},
   "outputs": [],
   "source": []
  }
 ],
 "metadata": {
  "kernelspec": {
   "display_name": "Python 3 (ipykernel)",
   "language": "python",
   "name": "python3"
  },
  "language_info": {
   "codemirror_mode": {
    "name": "ipython",
    "version": 3
   },
   "file_extension": ".py",
   "mimetype": "text/x-python",
   "name": "python",
   "nbconvert_exporter": "python",
   "pygments_lexer": "ipython3",
   "version": "3.9.7"
  }
 },
 "nbformat": 4,
 "nbformat_minor": 5
}
