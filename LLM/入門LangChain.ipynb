{
 "cells": [
  {
   "cell_type": "code",
   "execution_count": 7,
   "id": "517c96be-24b5-4762-8f7e-af0ff07d879a",
   "metadata": {},
   "outputs": [],
   "source": [
    "#!pip install langchain\n",
    "#!pip install langchain-openai\n",
    "#!pip install langchain-community"
   ]
  },
  {
   "cell_type": "code",
   "execution_count": 2,
   "id": "6eb81b61-fa31-4e41-9ad5-45bab19ede5e",
   "metadata": {},
   "outputs": [
    {
     "name": "stdout",
     "output_type": "stream",
     "text": [
      "[('id', 'chatcmpl-AAB2V4rTQN2SSJ4bA8C9YNw0BHG3k'), ('choices', [Choice(finish_reason='stop', index=0, logprobs=None, message=ChatCompletionMessage(content='iPhone8は2017年9月22日にリリースされました。', refusal=None, role='assistant', function_call=None, tool_calls=None))]), ('created', 1726989079), ('model', 'gpt-3.5-turbo-0125'), ('object', 'chat.completion'), ('service_tier', None), ('system_fingerprint', None), ('usage', CompletionUsage(completion_tokens=17, prompt_tokens=19, total_tokens=36, completion_tokens_details=CompletionTokensDetails(reasoning_tokens=0)))]\n"
     ]
    }
   ],
   "source": [
    "import json\n",
    "import openai\n",
    "\n",
    "response = openai.chat.completions.create(\n",
    "    model = \"gpt-3.5-turbo\",\n",
    "    messages=[{\"role\":\"user\",\"content\":\"iPhone8のリリース日を教えて\"},]\n",
    ")\n",
    "\n",
    "print(list(response))"
   ]
  },
  {
   "cell_type": "code",
   "execution_count": null,
   "id": "072462c1-eded-4819-9580-cbe298e6f10e",
   "metadata": {},
   "outputs": [],
   "source": []
  }
 ],
 "metadata": {
  "kernelspec": {
   "display_name": "Python 3 (ipykernel)",
   "language": "python",
   "name": "python3"
  },
  "language_info": {
   "codemirror_mode": {
    "name": "ipython",
    "version": 3
   },
   "file_extension": ".py",
   "mimetype": "text/x-python",
   "name": "python",
   "nbconvert_exporter": "python",
   "pygments_lexer": "ipython3",
   "version": "3.9.19"
  }
 },
 "nbformat": 4,
 "nbformat_minor": 5
}
