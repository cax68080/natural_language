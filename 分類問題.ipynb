{
 "cells": [
  {
   "cell_type": "markdown",
   "id": "c0110f4a",
   "metadata": {},
   "source": [
    "# 第3章 分類問題"
   ]
  },
  {
   "cell_type": "markdown",
   "id": "41f0e344",
   "metadata": {},
   "source": [
    "## 3.3 Naive Bayes"
   ]
  },
  {
   "cell_type": "code",
   "execution_count": 4,
   "id": "5803e276",
   "metadata": {},
   "outputs": [],
   "source": [
    "# 訓練データのファイルを読み込んで、素性の\n",
    "# インデックス辞書featsとラベルのインデックス辞書\n",
    "# labelsを返す関数\n",
    "\n",
    "def Make_dict(file):\n",
    "    feats,labels = {},{}\n",
    "    findex,lindex = 0,0\n",
    "    with open(file,encoding='utf-8') as f:\n",
    "        for line in f:\n",
    "            list=line.split(' ')\n",
    "            for item in list:\n",
    "                word,right = item.split(\":\")\n",
    "                # 素性の処理\n",
    "                if (word not in feats) and (word != \"#label#\"):\n",
    "                    feats[word] = findex\n",
    "                    findex += 1\n",
    "                elif word == \"#label#\":\n",
    "                    right = right.replace('\\n','')\n",
    "                    if right not in labels:\n",
    "                        labels[right] = lindex\n",
    "                        lindex += 1\n",
    "    return feats,labels\n",
    "\n"
   ]
  },
  {
   "cell_type": "code",
   "execution_count": 8,
   "id": "689ad9dd",
   "metadata": {},
   "outputs": [
    {
     "name": "stdout",
     "output_type": "stream",
     "text": [
      "<class 'dict'>\n",
      "19983\n",
      "{'positive': 0, 'negative': 1}\n"
     ]
    }
   ],
   "source": [
    "features,labels = Make_dict(r'.\\cls-acl10-processed\\jp\\books\\train.processed')\n",
    "print(type(features))\n",
    "print(len(features))\n",
    "print(labels)"
   ]
  },
  {
   "cell_type": "code",
   "execution_count": 9,
   "id": "d18b610a",
   "metadata": {},
   "outputs": [],
   "source": [
    "# ファイルと素性辞書とラベルの辞書を\n",
    "# 引数にとり、用例ベクトルのリストと\n",
    "# 対応する答えのリストを返す関数\n",
    "def Make_sample_vectors(file,feats,label_dict):\n",
    "    samples,label_list = [],[]\n",
    "    with open(file,encoding='utf-8') as f:\n",
    "        for line in f:\n",
    "            list = line.split(' ')\n",
    "            asample = [0] * len(feats)\n",
    "            for item in list:\n",
    "                word,right = item.split(\":\")\n",
    "                if word == \"#label#\":\n",
    "                    label_list.append(int(label_dict[right.replace('\\n','')]))\n",
    "                else:\n",
    "                    if word in feats:\n",
    "                        asample[feats[word]] = int(right)\n",
    "            samples.append(asample)\n",
    "    return samples,label_list"
   ]
  },
  {
   "cell_type": "code",
   "execution_count": 11,
   "id": "6d132381",
   "metadata": {},
   "outputs": [],
   "source": [
    "train_X,train_y = Make_sample_vectors(r'.\\cls-acl10-processed\\jp\\books\\train.processed',features,labels)"
   ]
  },
  {
   "cell_type": "code",
   "execution_count": 12,
   "id": "2eeeefbb",
   "metadata": {},
   "outputs": [],
   "source": [
    "test_X,test_y = Make_sample_vectors(r'.\\cls-acl10-processed\\jp\\books\\train.processed',features,labels)"
   ]
  },
  {
   "cell_type": "code",
   "execution_count": 13,
   "id": "ca226d88",
   "metadata": {},
   "outputs": [
    {
     "name": "stdout",
     "output_type": "stream",
     "text": [
      "2000\n",
      "2000\n",
      "2000\n",
      "2000\n"
     ]
    }
   ],
   "source": [
    "print(len(train_X))\n",
    "print(len(train_y))\n",
    "print(len(test_X))\n",
    "print(len(test_y))"
   ]
  },
  {
   "cell_type": "markdown",
   "id": "14fd1624",
   "metadata": {},
   "source": [
    "### naive_bayes モジュールによる Naive Bayes"
   ]
  },
  {
   "cell_type": "code",
   "execution_count": 14,
   "id": "b49cdbb2",
   "metadata": {},
   "outputs": [
    {
     "data": {
      "text/plain": [
       "BernoulliNB()"
      ]
     },
     "execution_count": 14,
     "metadata": {},
     "output_type": "execute_result"
    }
   ],
   "source": [
    "from sklearn.naive_bayes import BernoulliNB\n",
    "cl = BernoulliNB()\n",
    "cl.fit(train_X,train_y)\n",
    "\n"
   ]
  },
  {
   "cell_type": "code",
   "execution_count": 15,
   "id": "96033802",
   "metadata": {},
   "outputs": [
    {
     "data": {
      "text/plain": [
       "0.939"
      ]
     },
     "execution_count": 15,
     "metadata": {},
     "output_type": "execute_result"
    }
   ],
   "source": [
    "cl.score(test_X,test_y)"
   ]
  },
  {
   "cell_type": "code",
   "execution_count": 17,
   "id": "3c030494",
   "metadata": {},
   "outputs": [],
   "source": [
    "cl = BernoulliNB(alpha=0.5)"
   ]
  },
  {
   "cell_type": "code",
   "execution_count": 18,
   "id": "e97aa2fa",
   "metadata": {},
   "outputs": [
    {
     "data": {
      "text/plain": [
       "0.972"
      ]
     },
     "execution_count": 18,
     "metadata": {},
     "output_type": "execute_result"
    }
   ],
   "source": [
    "from sklearn.naive_bayes import MultinomialNB\n",
    "cl = MultinomialNB()\n",
    "cl.fit(train_X,train_y)\n",
    "cl.score(test_X,test_y)\n"
   ]
  },
  {
   "cell_type": "markdown",
   "id": "e8270f2a",
   "metadata": {},
   "source": [
    "## 3.4 文書分類の評価"
   ]
  },
  {
   "cell_type": "markdown",
   "id": "f584cf97",
   "metadata": {},
   "source": [
    "#### モジュールによる評価"
   ]
  },
  {
   "cell_type": "code",
   "execution_count": 19,
   "id": "b94e1cac",
   "metadata": {},
   "outputs": [],
   "source": [
    "test_ans_list = cl.predict(test_X)"
   ]
  },
  {
   "cell_type": "code",
   "execution_count": 20,
   "id": "e453ac4e",
   "metadata": {},
   "outputs": [
    {
     "data": {
      "text/plain": [
       "array([0.99372385, 0.95210728])"
      ]
     },
     "execution_count": 20,
     "metadata": {},
     "output_type": "execute_result"
    }
   ],
   "source": [
    "# 精度を計算する\n",
    "from sklearn.metrics import precision_score\n",
    "\n",
    "precision_score(test_y,test_ans_list,average=None)"
   ]
  },
  {
   "cell_type": "code",
   "execution_count": 21,
   "id": "2b31fe04",
   "metadata": {},
   "outputs": [
    {
     "name": "stdout",
     "output_type": "stream",
     "text": [
      "956\n",
      "1044\n"
     ]
    }
   ],
   "source": [
    "test_ans_list_2 = test_ans_list.tolist()\n",
    "print(test_ans_list_2.count(0))\n",
    "print(test_ans_list_2.count(1))\n"
   ]
  },
  {
   "cell_type": "code",
   "execution_count": 22,
   "id": "ef2a121f",
   "metadata": {},
   "outputs": [
    {
     "name": "stdout",
     "output_type": "stream",
     "text": [
      "950\n",
      "994\n"
     ]
    }
   ],
   "source": [
    "print([test_ans_list_2[i] == 0 and test_ans_list_2[i] == test_y[i] for i in range(len(test_ans_list_2))].count(True))\n",
    "print([test_ans_list_2[i] == 1 and test_ans_list_2[i] == test_y[i] for i in range(len(test_ans_list_2))].count(True))\n"
   ]
  },
  {
   "cell_type": "code",
   "execution_count": 23,
   "id": "2bc2c23a",
   "metadata": {},
   "outputs": [
    {
     "data": {
      "text/plain": [
       "0.972"
      ]
     },
     "execution_count": 23,
     "metadata": {},
     "output_type": "execute_result"
    }
   ],
   "source": [
    "(950 + 994) / (956 + 1044)"
   ]
  },
  {
   "cell_type": "code",
   "execution_count": 24,
   "id": "ba955fd7",
   "metadata": {},
   "outputs": [
    {
     "data": {
      "text/plain": [
       "0.9729155645329357"
      ]
     },
     "execution_count": 24,
     "metadata": {},
     "output_type": "execute_result"
    }
   ],
   "source": [
    "((950 / 956) + (994 / 1044)) / 2"
   ]
  },
  {
   "cell_type": "code",
   "execution_count": 25,
   "id": "f258e650",
   "metadata": {},
   "outputs": [
    {
     "name": "stdout",
     "output_type": "stream",
     "text": [
      "0.972\n",
      "0.9729155645329357\n"
     ]
    }
   ],
   "source": [
    "print(precision_score(test_y,test_ans_list,average='micro'))\n",
    "print(precision_score(test_y,test_ans_list,average='macro'))"
   ]
  },
  {
   "cell_type": "code",
   "execution_count": 26,
   "id": "834e0cd8",
   "metadata": {},
   "outputs": [
    {
     "name": "stdout",
     "output_type": "stream",
     "text": [
      "[0.95  0.994]\n",
      "0.972\n",
      "0.972\n"
     ]
    }
   ],
   "source": [
    "# 再現率を計算する\n",
    "from sklearn.metrics import recall_score\n",
    "print(recall_score(test_y,test_ans_list,average=None))\n",
    "print(recall_score(test_y,test_ans_list,average='micro'))\n",
    "print(recall_score(test_y,test_ans_list,average='macro'))\n"
   ]
  },
  {
   "cell_type": "code",
   "execution_count": 27,
   "id": "1293255e",
   "metadata": {},
   "outputs": [
    {
     "name": "stdout",
     "output_type": "stream",
     "text": [
      "[0.97137014 0.97260274]\n",
      "0.972\n",
      "0.9719864414376558\n"
     ]
    }
   ],
   "source": [
    "# F値を計算する\n",
    "from sklearn.metrics import f1_score\n",
    "print(f1_score(test_y,test_ans_list,average=None))\n",
    "print(f1_score(test_y,test_ans_list,average='micro'))\n",
    "print(f1_score(test_y,test_ans_list,average='macro'))\n",
    "\n"
   ]
  },
  {
   "cell_type": "code",
   "execution_count": null,
   "id": "e4d7c294",
   "metadata": {},
   "outputs": [],
   "source": []
  }
 ],
 "metadata": {
  "kernelspec": {
   "display_name": "Python 3 (ipykernel)",
   "language": "python",
   "name": "python3"
  },
  "language_info": {
   "codemirror_mode": {
    "name": "ipython",
    "version": 3
   },
   "file_extension": ".py",
   "mimetype": "text/x-python",
   "name": "python",
   "nbconvert_exporter": "python",
   "pygments_lexer": "ipython3",
   "version": "3.9.7"
  }
 },
 "nbformat": 4,
 "nbformat_minor": 5
}
